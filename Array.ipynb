{
  "nbformat": 4,
  "nbformat_minor": 0,
  "metadata": {
    "colab": {
      "provenance": []
    },
    "kernelspec": {
      "name": "python3",
      "display_name": "Python 3"
    },
    "language_info": {
      "name": "python"
    }
  },
  "cells": [
    {
      "cell_type": "markdown",
      "source": [
        "## Array with Python"
      ],
      "metadata": {
        "id": "-qJYkl-ZF4jF"
      }
    },
    {
      "cell_type": "code",
      "execution_count": 4,
      "metadata": {
        "id": "shZrUMQkCgVK"
      },
      "outputs": [],
      "source": [
        "arr = [5,2,3,7,4,8,11,6]"
      ]
    },
    {
      "cell_type": "code",
      "source": [
        "#appending an element\n",
        "arr.append(9)"
      ],
      "metadata": {
        "id": "rawDU5-yF-t0"
      },
      "execution_count": 5,
      "outputs": []
    },
    {
      "cell_type": "code",
      "source": [
        "arr"
      ],
      "metadata": {
        "colab": {
          "base_uri": "https://localhost:8080/"
        },
        "id": "fw9Wqt-VGDQa",
        "outputId": "bd6c74c8-0f4c-4b45-87a6-1b6ac8003a4b"
      },
      "execution_count": 6,
      "outputs": [
        {
          "output_type": "execute_result",
          "data": {
            "text/plain": [
              "[5, 2, 3, 7, 4, 8, 11, 6, 9]"
            ]
          },
          "metadata": {},
          "execution_count": 6
        }
      ]
    },
    {
      "cell_type": "code",
      "source": [
        "#deleting an element\n",
        "key = 9\n",
        "arr.remove(key)\n"
      ],
      "metadata": {
        "id": "gJ7Gm8AgGEnP"
      },
      "execution_count": 7,
      "outputs": []
    },
    {
      "cell_type": "code",
      "source": [
        "arr"
      ],
      "metadata": {
        "colab": {
          "base_uri": "https://localhost:8080/"
        },
        "id": "orOhlN3vGPYb",
        "outputId": "43a528aa-c501-4b17-bd78-191eef172225"
      },
      "execution_count": 8,
      "outputs": [
        {
          "output_type": "execute_result",
          "data": {
            "text/plain": [
              "[5, 2, 3, 7, 4, 8, 11, 6]"
            ]
          },
          "metadata": {},
          "execution_count": 8
        }
      ]
    },
    {
      "cell_type": "code",
      "source": [
        "#Deleting an element at a particular index\n",
        "index = 5\n",
        "deleted = arr.pop(index)\n",
        "print(deleted)\n",
        "arr"
      ],
      "metadata": {
        "colab": {
          "base_uri": "https://localhost:8080/"
        },
        "id": "bunnm8GsGP9W",
        "outputId": "a828e320-eada-46a7-9551-3b60f0b55f33"
      },
      "execution_count": 9,
      "outputs": [
        {
          "output_type": "stream",
          "name": "stdout",
          "text": [
            "8\n"
          ]
        },
        {
          "output_type": "execute_result",
          "data": {
            "text/plain": [
              "[5, 2, 3, 7, 4, 11, 6]"
            ]
          },
          "metadata": {},
          "execution_count": 9
        }
      ]
    },
    {
      "cell_type": "code",
      "source": [
        "#Searching an element in an array\n",
        "x = 5\n",
        "print(x in arr)"
      ],
      "metadata": {
        "colab": {
          "base_uri": "https://localhost:8080/"
        },
        "id": "yqIk5OXRGbiI",
        "outputId": "20e7674a-9b67-46b1-8518-74f31d42b04e"
      },
      "execution_count": 10,
      "outputs": [
        {
          "output_type": "stream",
          "name": "stdout",
          "text": [
            "True\n"
          ]
        }
      ]
    },
    {
      "cell_type": "code",
      "source": [
        "x = 12\n",
        "print(x in arr)"
      ],
      "metadata": {
        "colab": {
          "base_uri": "https://localhost:8080/"
        },
        "id": "dcMj5FwcGjxf",
        "outputId": "971f4c24-baad-4b4a-fedd-340f91d95b51"
      },
      "execution_count": 11,
      "outputs": [
        {
          "output_type": "stream",
          "name": "stdout",
          "text": [
            "False\n"
          ]
        }
      ]
    },
    {
      "cell_type": "code",
      "source": [
        "#Sorting an array\n",
        "arr = sorted(arr)"
      ],
      "metadata": {
        "id": "IfGmP0dgGmKG"
      },
      "execution_count": 12,
      "outputs": []
    },
    {
      "cell_type": "code",
      "source": [
        "arr"
      ],
      "metadata": {
        "colab": {
          "base_uri": "https://localhost:8080/"
        },
        "id": "OVAN0DmYGqFe",
        "outputId": "aaacf4d4-b091-4079-8027-7e5c3b325c4b"
      },
      "execution_count": 13,
      "outputs": [
        {
          "output_type": "execute_result",
          "data": {
            "text/plain": [
              "[2, 3, 4, 5, 6, 7, 11]"
            ]
          },
          "metadata": {},
          "execution_count": 13
        }
      ]
    },
    {
      "cell_type": "code",
      "source": [
        "#Reversing an array\n",
        "arr1= sorted(arr, reverse = True)"
      ],
      "metadata": {
        "id": "bMATKdxJGqk5"
      },
      "execution_count": 14,
      "outputs": []
    },
    {
      "cell_type": "code",
      "source": [
        "arr1"
      ],
      "metadata": {
        "colab": {
          "base_uri": "https://localhost:8080/"
        },
        "id": "-4by9SQJGxBY",
        "outputId": "fb726d69-412d-439c-fa33-775a776a4575"
      },
      "execution_count": 15,
      "outputs": [
        {
          "output_type": "execute_result",
          "data": {
            "text/plain": [
              "[11, 7, 6, 5, 4, 3, 2]"
            ]
          },
          "metadata": {},
          "execution_count": 15
        }
      ]
    },
    {
      "cell_type": "code",
      "source": [
        "#Reverse a list\n",
        "arr\n",
        "arr[::-1]"
      ],
      "metadata": {
        "colab": {
          "base_uri": "https://localhost:8080/"
        },
        "id": "wbHYIFn2Gxk6",
        "outputId": "cd3993c7-84d2-4049-f510-657303ad0de0"
      },
      "execution_count": 17,
      "outputs": [
        {
          "output_type": "execute_result",
          "data": {
            "text/plain": [
              "[11, 7, 6, 5, 4, 3, 2]"
            ]
          },
          "metadata": {},
          "execution_count": 17
        }
      ]
    },
    {
      "cell_type": "code",
      "source": [
        "#Hard core Coding\n",
        "def reverse(arr):\n",
        "  low = 0\n",
        "  high = len(arr)-1\n",
        "  while low<high:\n",
        "    arr[low], arr[high] = arr[high], arr[low]\n",
        "    low+=1\n",
        "    high-=1\n",
        "\n",
        "print(\"The original Array is :\", arr)\n",
        "reverse(arr)\n",
        "print(\"The reversed array is : \",arr)"
      ],
      "metadata": {
        "colab": {
          "base_uri": "https://localhost:8080/"
        },
        "id": "-6veXFuAG1Vx",
        "outputId": "ba5f7405-6171-4f87-d21d-90889e9f8d04"
      },
      "execution_count": 18,
      "outputs": [
        {
          "output_type": "stream",
          "name": "stdout",
          "text": [
            "The original Array is : [2, 3, 4, 5, 6, 7, 11]\n",
            "The reversed array is :  [11, 7, 6, 5, 4, 3, 2]\n"
          ]
        }
      ]
    }
  ]
}