{
  "nbformat": 4,
  "nbformat_minor": 0,
  "metadata": {
    "colab": {
      "provenance": []
    },
    "kernelspec": {
      "name": "python3",
      "display_name": "Python 3"
    },
    "language_info": {
      "name": "python"
    }
  },
  "cells": [
    {
      "cell_type": "markdown",
      "source": [
        "## Stack"
      ],
      "metadata": {
        "id": "Ac7f_hv2L4SX"
      }
    },
    {
      "cell_type": "code",
      "execution_count": 3,
      "metadata": {
        "colab": {
          "base_uri": "https://localhost:8080/"
        },
        "id": "DKVbB3TTLxCC",
        "outputId": "31a77040-3f2e-4d99-b001-d76ff8f8d801"
      },
      "outputs": [
        {
          "output_type": "execute_result",
          "data": {
            "text/plain": [
              "[0, 1, 2, 3, 4, 5, 6, 7, 8, 9]"
            ]
          },
          "metadata": {},
          "execution_count": 3
        }
      ],
      "source": [
        "# Stack\n",
        "stack = []\n",
        "\n",
        "#Push an element to stack\n",
        "for i in range(10):\n",
        "  stack.append(i)\n",
        "\n",
        "stack"
      ]
    },
    {
      "cell_type": "code",
      "source": [
        "#Pop an element\n",
        "if len(stack) !=0:\n",
        "  popped = stack.pop()\n",
        "  print(popped)\n"
      ],
      "metadata": {
        "colab": {
          "base_uri": "https://localhost:8080/"
        },
        "id": "Ba1duvmfL3cp",
        "outputId": "c94154d8-f9c3-49c3-96c1-0eea006ed26a"
      },
      "execution_count": 4,
      "outputs": [
        {
          "output_type": "stream",
          "name": "stdout",
          "text": [
            "9\n"
          ]
        }
      ]
    },
    {
      "cell_type": "code",
      "source": [
        "stack"
      ],
      "metadata": {
        "colab": {
          "base_uri": "https://localhost:8080/"
        },
        "id": "gG6YxUYVNtM0",
        "outputId": "61d271e7-a903-4482-fe14-24d563b754dc"
      },
      "execution_count": 5,
      "outputs": [
        {
          "output_type": "execute_result",
          "data": {
            "text/plain": [
              "[0, 1, 2, 3, 4, 5, 6, 7, 8]"
            ]
          },
          "metadata": {},
          "execution_count": 5
        }
      ]
    },
    {
      "cell_type": "code",
      "source": [
        "#Looking for the top of the stack\n",
        "stack[-1]"
      ],
      "metadata": {
        "colab": {
          "base_uri": "https://localhost:8080/"
        },
        "id": "DT8o4JTBNu7O",
        "outputId": "cc6e03ca-44e7-4669-c758-24cc199be843"
      },
      "execution_count": 6,
      "outputs": [
        {
          "output_type": "execute_result",
          "data": {
            "text/plain": [
              "8"
            ]
          },
          "metadata": {},
          "execution_count": 6
        }
      ]
    },
    {
      "cell_type": "code",
      "source": [
        "#checking if the stack if empty\n",
        "len(stack) == 0"
      ],
      "metadata": {
        "colab": {
          "base_uri": "https://localhost:8080/"
        },
        "id": "KbpxhPPHNzt9",
        "outputId": "f5a4bfd9-19fa-4c54-995f-d44bdb1a3da2"
      },
      "execution_count": 7,
      "outputs": [
        {
          "output_type": "execute_result",
          "data": {
            "text/plain": [
              "False"
            ]
          },
          "metadata": {},
          "execution_count": 7
        }
      ]
    },
    {
      "cell_type": "markdown",
      "source": [
        "### WAP to test whether a given parenthesis sequence is valid or not"
      ],
      "metadata": {
        "id": "z3hRkB3XOBnN"
      }
    },
    {
      "cell_type": "code",
      "source": [
        "def par_check(a):\n",
        "  stack = []\n",
        "  for x in a:\n",
        "    if x in [\"(\",\"{\",\"[\"]:\n",
        "      stack.append(x)\n",
        "    elif x in [\")\",\"}\",\"]\"]:\n",
        "      if len(stack) == 0:\n",
        "        return False\n",
        "      else:\n",
        "        stack.pop()\n",
        "  return len(stack) == 0 #no leading left brackets found\n"
      ],
      "metadata": {
        "id": "lLIizph1OAZi"
      },
      "execution_count": 8,
      "outputs": []
    },
    {
      "cell_type": "code",
      "source": [
        "par_check('[{({)}]')"
      ],
      "metadata": {
        "colab": {
          "base_uri": "https://localhost:8080/"
        },
        "id": "1N3WtnpgPptN",
        "outputId": "15bf31e7-d6b6-4877-a49d-ad363953166b"
      },
      "execution_count": 9,
      "outputs": [
        {
          "output_type": "execute_result",
          "data": {
            "text/plain": [
              "False"
            ]
          },
          "metadata": {},
          "execution_count": 9
        }
      ]
    },
    {
      "cell_type": "code",
      "source": [
        "par_check('{{[[(){)](}]}}')"
      ],
      "metadata": {
        "colab": {
          "base_uri": "https://localhost:8080/"
        },
        "id": "hlPfb-uqPtz_",
        "outputId": "ecdefa44-981b-4753-f85a-04191b7b1180"
      },
      "execution_count": 10,
      "outputs": [
        {
          "output_type": "execute_result",
          "data": {
            "text/plain": [
              "True"
            ]
          },
          "metadata": {},
          "execution_count": 10
        }
      ]
    },
    {
      "cell_type": "code",
      "source": [],
      "metadata": {
        "id": "__ZS5X5-P0F6"
      },
      "execution_count": null,
      "outputs": []
    }
  ]
}